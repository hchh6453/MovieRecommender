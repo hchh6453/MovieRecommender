{
 "cells": [
  {
   "cell_type": "code",
   "execution_count": 1,
   "id": "62f84231",
   "metadata": {},
   "outputs": [],
   "source": [
    "import pandas as pd\n",
    "from sklearn.feature_extraction.text import CountVectorizer # genre變化度不大\n",
    "from sklearn.feature_extraction.text import TfidfVectorizer # tags稀有但有意義的詞權重重\n",
    "from sklearn.metrics.pairwise import cosine_similarity"
   ]
  },
  {
   "cell_type": "code",
   "execution_count": 2,
   "id": "e51885c4",
   "metadata": {},
   "outputs": [
    {
     "name": "stdout",
     "output_type": "stream",
     "text": [
      "   userId  movieId              tag   timestamp\n",
      "0       2    60756            funny  1445714994\n",
      "1       2    60756  Highly quotable  1445714996\n",
      "2       2    60756     will ferrell  1445714992\n",
      "3       2    89774     Boxing story  1445715207\n",
      "4       2    89774              MMA  1445715200\n"
     ]
    }
   ],
   "source": [
    "# 載入資料\n",
    "movies = pd.read_csv(\"/Users/famil/Documents/csh/nschool/MovieRecommenderSystem/data/movies.csv\")\n",
    "# print(movies.head())\n",
    "tags = pd.read_csv(\"/Users/famil/Documents/csh/nschool/MovieRecommenderSystem/data/tags.csv\")\n",
    "print(tags.head())"
   ]
  },
  {
   "cell_type": "code",
   "execution_count": 3,
   "id": "a4a194af",
   "metadata": {},
   "outputs": [],
   "source": [
    "# genres 特徵處理\n",
    "# 把 genres 轉成文字特徵向量\n",
    "movies['genres'] = movies['genres'].str.replace('|', ' ')\n",
    "\n",
    "# genres 向量化 (CountVectorizer)\n",
    "genre_vectorizer = CountVectorizer() # 文字轉數字向量\n",
    "genre_matrix = genre_vectorizer.fit_transform(movies['genres']) # fit+transform\n",
    "\n",
    "# 計算相似度矩陣\n",
    "genres_sim = cosine_similarity(genre_matrix, genre_matrix) # 文字特徵使用餘弦相似度"
   ]
  },
  {
   "cell_type": "code",
   "execution_count": 4,
   "id": "2a9b791a",
   "metadata": {},
   "outputs": [],
   "source": [
    "# tags 特徵處理\n",
    "# 合併 tags：把同一部電影的標籤合併成一個字串\n",
    "tags_grouped = tags.groupby('movieId')['tag'].apply(lambda x: \" \".join(x)).reset_index()\n",
    "\n",
    "# 把 tags 合併到 movies\n",
    "movies = movies.merge(tags_grouped, on='movieId', how='left')\n",
    "movies['tag'] = movies['tag'].fillna('')  # 沒有標籤的電影補空字串\n",
    "\n",
    "# tags 向量化 (TF-IDF)\n",
    "tags_vectorizer = TfidfVectorizer(stop_words='english')\n",
    "tags_matrix = tags_vectorizer.fit_transform(movies['tag'])\n",
    "\n",
    "# 計算相似度矩陣\n",
    "tags_sim = cosine_similarity(tags_matrix, tags_matrix)"
   ]
  },
  {
   "cell_type": "code",
   "execution_count": 5,
   "id": "56e45a4b",
   "metadata": {},
   "outputs": [],
   "source": [
    "# 融合相似度 (可調整權重 a, b)\n",
    "a = 0.3  # genres 權重\n",
    "b = 0.7   # tags 權重\n",
    "cosine_sim = a * genres_sim + b * tags_sim"
   ]
  },
  {
   "cell_type": "code",
   "execution_count": 22,
   "id": "d72219dc",
   "metadata": {},
   "outputs": [],
   "source": [
    "# 建立推薦函數\n",
    "def recommend_movies(title, n=5):\n",
    "    # 找到輸入電影的 index\n",
    "    if title not in movies['title'].values:\n",
    "        return f\"找不到電影：{title}\"\n",
    "    \n",
    "    idx = movies[movies['title'] == title].index[0]\n",
    "    \n",
    "    # 找出相似度分數\n",
    "    sim_scores = list(enumerate(cosine_sim[idx]))\n",
    "    \n",
    "    # 按分數排序 (最高在前，排除自己)\n",
    "    sim_scores = sorted(sim_scores, key=lambda x: x[1], reverse=True)[1:n+1]\n",
    "    \n",
    "    # 取得電影標題\n",
    "    movie_indices = [i[0] for i in sim_scores]\n",
    "    return movies['title'].iloc[movie_indices].tolist()"
   ]
  },
  {
   "cell_type": "code",
   "execution_count": 23,
   "id": "ad610eaa",
   "metadata": {},
   "outputs": [
    {
     "name": "stdout",
     "output_type": "stream",
     "text": [
      "=== 推薦結果 ===\n",
      "[\"Bug's Life, A (1998)\", 'Toy Story 2 (1999)', 'The Lego Movie (2014)', 'Guardians of the Galaxy 2 (2017)', 'Up (2009)']\n"
     ]
    }
   ],
   "source": [
    "# 5. 測試\n",
    "print(\"=== 推薦結果 ===\")\n",
    "print(recommend_movies(\"Toy Story (1995)\", n=5))"
   ]
  },
  {
   "cell_type": "code",
   "execution_count": null,
   "id": "80dcec0d",
   "metadata": {},
   "outputs": [],
   "source": []
  }
 ],
 "metadata": {
  "kernelspec": {
   "display_name": ".venv",
   "language": "python",
   "name": "python3"
  },
  "language_info": {
   "codemirror_mode": {
    "name": "ipython",
    "version": 3
   },
   "file_extension": ".py",
   "mimetype": "text/x-python",
   "name": "python",
   "nbconvert_exporter": "python",
   "pygments_lexer": "ipython3",
   "version": "3.9.6"
  }
 },
 "nbformat": 4,
 "nbformat_minor": 5
}
